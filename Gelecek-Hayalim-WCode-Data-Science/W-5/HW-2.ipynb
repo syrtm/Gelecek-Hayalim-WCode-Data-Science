{
 "cells": [
  {
   "cell_type": "code",
   "execution_count": 2,
   "metadata": {},
   "outputs": [
    {
     "name": "stdout",
     "output_type": "stream",
     "text": [
      "3\n",
      "Hi-Kod\n",
      "4.7\n",
      "[9, '3', 8.4, 'Hi-Kod']\n",
      "[8.4, 'Hi-Kod', 'False', 4.7]\n",
      "['Python', '3', 'Hi-Kod', 'False']\n",
      "0. indexte bulunan meyve: Elma\n",
      "1. indexte bulunan meyve: Armut\n",
      "2. indexte bulunan meyve: Muz\n",
      "3. indexte bulunan meyve: Çilek\n"
     ]
    }
   ],
   "source": [
    "'''Aşağıdaki işlemleri indexing ve slicing kullanarak liste üzerinde uygulayın.\n",
    "\n",
    "liste = [\"Python\",True,9,\"3\",8.4,\"Hi-Kod\",\"False\",4.7]\n",
    "\n",
    "\"3\" değerine ulaşmak için indexleme yapın.\n",
    "\n",
    "\"Hi-Kod\" değerine ulaşmak için indexleme yapın.\n",
    "\n",
    "4.7 değerine ulaşmak için indexleme yapın.\n",
    "\n",
    "9,\"3\",8.4,\"Hi-Kod\" değerlerine ulaşmak için slicing yapın.\n",
    "\n",
    "8.4,\"Hi-Kod\",\"False\",4.7 değerlerine ulaşmak için slicing yapın.'''\n",
    "\n",
    "liste = [\"Python\", True, 9, \"3\", 8.4, \"Hi-Kod\", \"False\", 4.7]\n",
    "print(liste[3]) \n",
    "print(liste[5]) \n",
    "print(liste[7]) \n",
    "print(liste[2:6])\n",
    "print(liste[4:])\n",
    "\n",
    "#Verilen listede bulunan string veri tipindeki öğeleri yeni_liste isimli listeye eklenir.\n",
    "\n",
    "yeni_liste = [item for item in liste if isinstance(item, str)]\n",
    "print(yeni_liste)\n",
    "\n",
    "#Enumerate methodunu araştırın ve aşağıdaki örneği enumerate methodu ile yapın.\n",
    "\n",
    "meyveler = [\"Elma\", \"Armut\", \"Muz\", \"Çilek\"]\n",
    "\n",
    "for index, meyve in enumerate(meyveler):\n",
    "    print(\"{}. indexte bulunan meyve: {}\".format(index, meyve))\n"
   ]
  }
 ],
 "metadata": {
  "kernelspec": {
   "display_name": "Python 3",
   "language": "python",
   "name": "python3"
  },
  "language_info": {
   "codemirror_mode": {
    "name": "ipython",
    "version": 3
   },
   "file_extension": ".py",
   "mimetype": "text/x-python",
   "name": "python",
   "nbconvert_exporter": "python",
   "pygments_lexer": "ipython3",
   "version": "3.12.4"
  }
 },
 "nbformat": 4,
 "nbformat_minor": 2
}
