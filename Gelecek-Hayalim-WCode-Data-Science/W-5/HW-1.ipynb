{
 "cells": [
  {
   "cell_type": "code",
   "execution_count": 3,
   "metadata": {},
   "outputs": [
    {
     "name": "stdout",
     "output_type": "stream",
     "text": [
      "Ödev 1\n",
      "Yarıçapı 4.0 olan dairenin alanı: 48.0\n"
     ]
    }
   ],
   "source": [
    "#• Kullanıcıdan pi değeri ve yarıçap bilgisi alarak dairenin alanını hesaplayan bir fonksiyon oluşturulur.\n",
    "\n",
    "print(\"Ödev 1\")\n",
    "\n",
    "import math\n",
    "\n",
    "def daire_alani(pi, yaricap):\n",
    "    alan = pi * (yaricap ** 2)\n",
    "    return alan\n",
    "\n",
    "pi = float(input(\"Pi değerini girin: \"))\n",
    "yaricap = float(input(\"Yarıçapı girin: \"))\n",
    "\n",
    "alan = daire_alani(pi, yaricap)\n",
    "print(f\"Yarıçapı {yaricap} olan dairenin alanı: {alan}\")\n"
   ]
  },
  {
   "cell_type": "code",
   "execution_count": 4,
   "metadata": {},
   "outputs": [
    {
     "name": "stdout",
     "output_type": "stream",
     "text": [
      "Ödev 2\n",
      "2 sayısının faktöriyeli: 2\n"
     ]
    }
   ],
   "source": [
    "#• Faktöriyel adında fonksiyon oluşturulur. Döngü kullanarak parametre olarak girilen sayının faktöriyeli hesaplanır. Format metodunu kullanılarak ekrana yazdırılır.\n",
    "\n",
    "print(\"Ödev 2\")\n",
    "\n",
    "def faktoriyel(sayi):\n",
    "    sonuc = 1\n",
    "    for i in range(1, sayi + 1):\n",
    "        sonuc *= i\n",
    "    return sonuc\n",
    "\n",
    "sayi = int(input(\"Faktöriyelini almak istediğiniz sayıyı girin: \"))\n",
    "\n",
    "sonuc = faktoriyel(sayi)\n",
    "print(f\"{sayi} sayısının faktöriyeli: {sonuc}\")\n"
   ]
  },
  {
   "cell_type": "code",
   "execution_count": 5,
   "metadata": {},
   "outputs": [
    {
     "name": "stdout",
     "output_type": "stream",
     "text": [
      "Ödev 3\n",
      "Kaç yaşındasınız: 24\n"
     ]
    }
   ],
   "source": [
    "#• Kişinin fonksiyona doğum yılını vererek kaç yaşında olduğunu hesaplayan bir fonksiyon oluşturun. \n",
    "\n",
    "print(\"Ödev 3\")\n",
    "\n",
    "from datetime import datetime\n",
    "\n",
    "# Yaş hesaplayan fonksiyon\n",
    "def yas_hesapla(dogum_yili):\n",
    "    mevcut_yil = datetime.now().year\n",
    "    yas = mevcut_yil - dogum_yili\n",
    "    return yas\n",
    "\n",
    "# Kullanıcıdan doğum yılını alalım\n",
    "dogum_yili = int(input(\"Doğum yılınızı girin: \"))\n",
    "\n",
    "# Fonksiyonu çağır ve sonucu yazdır\n",
    "yas = yas_hesapla(dogum_yili)\n",
    "print(f\"Kaç yaşındasınız: {yas}\")\n"
   ]
  },
  {
   "cell_type": "code",
   "execution_count": null,
   "metadata": {},
   "outputs": [],
   "source": [
    "'''• Doğum yılı ve isim bilgisi verilen fonksiyon kişinin emekli olup olmadığını söylesin.(Kişi 65 yaşında ise emekli olur.) Burada yaş hesabını yukarıdaki örnekteki fonksiyonu kullanarak yapsın.(Yani fonksiyon içinde fonksiyon kullanmanızı istiyorum :)) Kişi 65 yaşında ya da daha fazlaysa \"Emekli oldunuz\" yanıtını, 65 yaşından küçükse emekliliğine kaç yıl kaldığını da hesaplayarak \"(isim) emekliliğine (yıl) kaldı.\" yanıtını versin.'''\n",
    "\n",
    "print(\"Ödev 4\")\n",
    "\n",
    "def yas_hesapla(dogum_yili):\n",
    "    mevcut_yil = datetime.now().year\n",
    "    yas = mevcut_yil - dogum_yili\n",
    "    return yas\n",
    "\n",
    "def emeklilik_durumu(dogum_yili, isim):\n",
    "    yas = yas_hesapla(dogum_yili)\n",
    "    if yas >= 65:\n",
    "        print(f\"{isim}, emekli oldunuz.\")\n",
    "    else:\n",
    "        emeklilige_kalan = 65 - yas\n",
    "        print(f\"{isim}, emekliliğinize {emeklilige_kalan} yıl kaldı.\")\n",
    "\n",
    "# Kullanıcıdan doğum yılı ve isim alalım\n",
    "isim = input(\"Adınızı girin: \")\n",
    "dogum_yili = int(input(\"Doğum yılınızı girin: \"))\n",
    "\n",
    "# Fonksiyonu çağır\n",
    "emeklilik_durumu(dogum_yili, isim)\n"
   ]
  }
 ],
 "metadata": {
  "kernelspec": {
   "display_name": "Python 3",
   "language": "python",
   "name": "python3"
  },
  "language_info": {
   "codemirror_mode": {
    "name": "ipython",
    "version": 3
   },
   "file_extension": ".py",
   "mimetype": "text/x-python",
   "name": "python",
   "nbconvert_exporter": "python",
   "pygments_lexer": "ipython3",
   "version": "3.12.4"
  }
 },
 "nbformat": 4,
 "nbformat_minor": 2
}
