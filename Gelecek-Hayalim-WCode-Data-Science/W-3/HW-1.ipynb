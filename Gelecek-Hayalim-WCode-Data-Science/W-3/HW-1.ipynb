{
 "cells": [
  {
   "cell_type": "code",
   "execution_count": 2,
   "metadata": {},
   "outputs": [
    {
     "name": "stdout",
     "output_type": "stream",
     "text": [
      "Ödev 1\n",
      "a_to_float: 10.0, type: <class 'float'>\n",
      "b_to_int: 20, type: <class 'int'>\n",
      "c_to_int: 30, type: <class 'int'>\n",
      "d_to_int: 1, type: <class 'int'>\n",
      "-------------------------------------------------\n"
     ]
    }
   ],
   "source": [
    "#Değişkenlere atanmış değerlerin veri tipleri arasında dönüşüm yapılır.\n",
    "print(\"Ödev 1\")\n",
    "\n",
    "a = 10      \n",
    "b = \"20\"    \n",
    "c = 30.5    \n",
    "d = True    \n",
    "\n",
    "a_to_float = float(a)  \n",
    "b_to_int = int(b)      \n",
    "c_to_int = int(c)      \n",
    "d_to_int = int(d)      \n",
    "\n",
    "print(f\"a_to_float: {a_to_float}, type: {type(a_to_float)}\")\n",
    "print(f\"b_to_int: {b_to_int}, type: {type(b_to_int)}\")\n",
    "print(f\"c_to_int: {c_to_int}, type: {type(c_to_int)}\")\n",
    "print(f\"d_to_int: {d_to_int}, type: {type(d_to_int)}\")\n",
    "\n",
    "print(\"-------------------------------------------------\")\n",
    "\n"
   ]
  },
  {
   "cell_type": "code",
   "execution_count": 4,
   "metadata": {},
   "outputs": [
    {
     "name": "stdout",
     "output_type": "stream",
     "text": [
      "Ödev 2\n",
      "comparison_1 (Ali > Ayşe): False\n",
      "comparison_2 (Ali < Mehmet): False\n",
      "comparison_3 (Ayşe >= Mehmet): True\n",
      "logical_result (Ali ve Mehmet Ayşe'den küçük mü?): True\n",
      "-------------------------------------------------\n"
     ]
    }
   ],
   "source": [
    "#İsimlerden oluşan üç değişkene yaş değerleri atanır. Belirlenen üç değişken birbiriyle karşılaştırma operatörleri ile karşılaştırılır. Bu karşılaştırmalara mantıksal operatörler de eklenir.\n",
    "print(\"Ödev 2\")\n",
    "\n",
    "age_Ali = 25\n",
    "age_Ayse = 30\n",
    "age_Mehmet = 22\n",
    "\n",
    "comparison_1 = age_Ali > age_Ayse  \n",
    "comparison_2 = age_Ali < age_Mehmet  \n",
    "comparison_3 = age_Ayse >= age_Mehmet \n",
    "\n",
    "logical_result = (age_Ali < age_Ayse) and (age_Mehmet < age_Ayse) \n",
    "\n",
    "print(f\"comparison_1 (Ali > Ayşe): {comparison_1}\")\n",
    "print(f\"comparison_2 (Ali < Mehmet): {comparison_2}\")\n",
    "print(f\"comparison_3 (Ayşe >= Mehmet): {comparison_3}\")\n",
    "print(f\"logical_result (Ali ve Mehmet Ayşe'den küçük mü?): {logical_result}\")\n",
    "\n",
    "print(\"-------------------------------------------------\")"
   ]
  },
  {
   "cell_type": "code",
   "execution_count": 2,
   "metadata": {},
   "outputs": [
    {
     "name": "stdout",
     "output_type": "stream",
     "text": [
      "Ödev 3\n",
      "Toplama: 3.0\n",
      "Çıkarma: -1.0\n",
      "Çarpma: 2.0\n",
      "Bölme: 0.5\n",
      "-------------------------------------------------\n"
     ]
    }
   ],
   "source": [
    "#Kullanıcıdan iki değer girmesini istenir. Girilen değerlerin toplama, çıkarma, çarpma, bölme sonuçlarını yazdırılır.\n",
    "print(\"Ödev 3\")\n",
    "\n",
    "num1 = float(input(\"Birinci sayıyı girin: \"))\n",
    "num2 = float(input(\"İkinci sayıyı girin: \"))\n",
    "\n",
    "sum_result = num1 + num2 \n",
    "sub_result = num1 - num2 \n",
    "mul_result = num1 * num2 \n",
    "div_result = num1 / num2\n",
    "\n",
    "print(f\"Toplama: {sum_result}\")\n",
    "print(f\"Çıkarma: {sub_result}\")\n",
    "print(f\"Çarpma: {mul_result}\")\n",
    "print(f\"Bölme: {div_result}\")\n",
    "\n",
    "print(\"-------------------------------------------------\")\n"
   ]
  },
  {
   "cell_type": "code",
   "execution_count": 3,
   "metadata": {},
   "outputs": [
    {
     "name": "stdout",
     "output_type": "stream",
     "text": [
      "Ödev 4\n",
      "İsim: selay, Yaş: 24, Şehir: esk, Meslek: öğr\n"
     ]
    }
   ],
   "source": [
    "#Kullanıcıdan isim, yaş, şehir ve meslek bilgilerini istenir ve cevaplarını yazdırılır.\n",
    "print(\"Ödev 4\")\n",
    "\n",
    "name = input(\"İsminiz nedir? \")\n",
    "age = int(input(\"Kaç yaşındasınız? \"))\n",
    "city = input(\"Hangi şehirde yaşıyorsunuz? \")\n",
    "profession = input(\"Mesleğiniz nedir? \")\n",
    "\n",
    "print(f\"İsim: {name}, Yaş: {age}, Şehir: {city}, Meslek: {profession}\")\n"
   ]
  },
  {
   "cell_type": "code",
   "execution_count": 5,
   "metadata": {},
   "outputs": [
    {
     "name": "stdout",
     "output_type": "stream",
     "text": [
      "Ödev 5\n",
      "Seçilen Kelimeler: Veri, Bilimi, Atölyesi\n",
      "Büyük Harfli İfade: HI-KOD VERI BILIMI ATÖLYESI\n",
      "Küçük Harfli İfade: hi-kod veri bilimi atölyesi\n",
      "Çift Sayılar: 02468\n",
      "Tek Sayılar: 13579\n"
     ]
    }
   ],
   "source": [
    "''' \"Hi-Kod Veri Bilimi Atölyesi\" ifadesini bir değişkene tanımlanır.\n",
    "İfadedeki her bir kelimeyi (\"Gelecek Hayalim: W-Code\", \"Veri\", \"Bilimi\", \"Atölyesi\") değişken içinden seçilir.\n",
    "İfadeyi hepsini büyük harf olacak hale çevrilir. (\"GELECEK HAYALİM: W-CODE VERİ BİLİMİ ATÖLYESİ\")\n",
    "İfadeyi hepsini büyük harf olacak hale çevrilir.(\"gelecek hayalim: w-code veri bilimi atölyesi\")\n",
    "\"0123456789\" ifadesindeki yalnızca çift sayıları ve yalnızca tek sayıları seçilir. (\"02468\", \"13579\") '''\n",
    "\n",
    "print(\"Ödev 5\")\n",
    "\n",
    "phrase = \"Hi-Kod Veri Bilimi Atölyesi\"\n",
    "\n",
    "word_1 = phrase.split()[1]\n",
    "word_2 = phrase.split()[2]\n",
    "word_3 = phrase.split()[3]\n",
    "\n",
    "upper_case_phrase = phrase.upper()\n",
    "\n",
    "lower_case_phrase = phrase.lower()\n",
    "\n",
    "numbers = \"0123456789\"\n",
    "even_numbers = numbers[::2]\n",
    "odd_numbers = numbers[1::2]\n",
    "\n",
    "print(f\"Seçilen Kelimeler: {word_1}, {word_2}, {word_3}\")\n",
    "print(f\"Büyük Harfli İfade: {upper_case_phrase}\")\n",
    "print(f\"Küçük Harfli İfade: {lower_case_phrase}\")\n",
    "print(f\"Çift Sayılar: {even_numbers}\")\n",
    "print(f\"Tek Sayılar: {odd_numbers}\")\n"
   ]
  }
 ],
 "metadata": {
  "kernelspec": {
   "display_name": "Python 3",
   "language": "python",
   "name": "python3"
  },
  "language_info": {
   "codemirror_mode": {
    "name": "ipython",
    "version": 3
   },
   "file_extension": ".py",
   "mimetype": "text/x-python",
   "name": "python",
   "nbconvert_exporter": "python",
   "pygments_lexer": "ipython3",
   "version": "3.11.4"
  }
 },
 "nbformat": 4,
 "nbformat_minor": 2
}
