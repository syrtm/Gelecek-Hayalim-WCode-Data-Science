{
 "cells": [
  {
   "cell_type": "code",
   "execution_count": 2,
   "metadata": {},
   "outputs": [
    {
     "data": {
      "text/plain": [
       "' Sayılardan oluşan bir boyutlu array oluşturulur. Arrayi oluştururken sayıların veri tipini integer olarak belirtilir. Oluşturulan arrayin boyut, eleman sayısı bilgilerine bakılır. \\n İki ve üç boyutlu arrayler oluşturulur. Bu arraylerin boyut, eleman sayısı, satır, sütun bilgilerine ulaşılır. Arrayler üzerinde indexleme ve dilimleme(slicing) işlemi yapılır. \\n Numpy fonksiyonu kullanarak bir, iki ve üç boyutlu arrayler oluşturulur. Arrayler üzerinde indexleme ve dilimleme(slicing) işlemi yapılır \\n Sıfırlardan oluşan ve birlerden oluşan iki tane iki boyutlu array oluşturulur. Bu arrayler satır ve sütun bazında birleştirilir.'"
      ]
     },
     "execution_count": 2,
     "metadata": {},
     "output_type": "execute_result"
    }
   ],
   "source": [
    "''' Sayılardan oluşan bir boyutlu array oluşturulur. Arrayi oluştururken sayıların veri tipini integer olarak belirtilir. Oluşturulan arrayin boyut, eleman sayısı bilgilerine bakılır. \n",
    " İki ve üç boyutlu arrayler oluşturulur. Bu arraylerin boyut, eleman sayısı, satır, sütun bilgilerine ulaşılır. Arrayler üzerinde indexleme ve dilimleme(slicing) işlemi yapılır. \n",
    " Numpy fonksiyonu kullanarak bir, iki ve üç boyutlu arrayler oluşturulur. Arrayler üzerinde indexleme ve dilimleme(slicing) işlemi yapılır \n",
    " Sıfırlardan oluşan ve birlerden oluşan iki tane iki boyutlu array oluşturulur. Bu arrayler satır ve sütun bazında birleştirilir.'''"
   ]
  },
  {
   "cell_type": "code",
   "execution_count": 1,
   "metadata": {},
   "outputs": [],
   "source": [
    "import numpy as np"
   ]
  },
  {
   "cell_type": "code",
   "execution_count": 3,
   "metadata": {},
   "outputs": [
    {
     "name": "stdout",
     "output_type": "stream",
     "text": [
      "Arrayin boyutu: 1\n",
      "Arraydeki eleman sayısı: 5\n",
      "Arrayin şekli: (5,)\n"
     ]
    }
   ],
   "source": [
    "arr1 = np.array([1, 2, 3, 4, 5], dtype=int)\n",
    "\n",
    "print(\"Arrayin boyutu:\", arr1.ndim)\n",
    "\n",
    "print(\"Arraydeki eleman sayısı:\", arr1.size)\n",
    "\n",
    "print(\"Arrayin şekli:\", arr1.shape)\n"
   ]
  },
  {
   "cell_type": "code",
   "execution_count": 4,
   "metadata": {},
   "outputs": [
    {
     "name": "stdout",
     "output_type": "stream",
     "text": [
      "İki boyutlu arrayin boyutu: 2\n",
      "İki boyutlu arrayin eleman sayısı: 6\n",
      "İki boyutlu arrayin şekli: (2, 3)\n"
     ]
    }
   ],
   "source": [
    "arr2 = np.array([[1, 2, 3], [4, 5, 6]])\n",
    "\n",
    "print(\"İki boyutlu arrayin boyutu:\", arr2.ndim)\n",
    "\n",
    "print(\"İki boyutlu arrayin eleman sayısı:\", arr2.size)\n",
    "\n",
    "print(\"İki boyutlu arrayin şekli:\", arr2.shape)\n"
   ]
  },
  {
   "cell_type": "code",
   "execution_count": 5,
   "metadata": {},
   "outputs": [
    {
     "name": "stdout",
     "output_type": "stream",
     "text": [
      "Üç boyutlu arrayin boyutu: 3\n",
      "Üç boyutlu arrayin eleman sayısı: 8\n",
      "Üç boyutlu arrayin şekli: (2, 2, 2)\n"
     ]
    }
   ],
   "source": [
    "arr3 = np.array([[[1, 2], [3, 4]], [[5, 6], [7, 8]]])\n",
    "\n",
    "print(\"Üç boyutlu arrayin boyutu:\", arr3.ndim)\n",
    "\n",
    "print(\"Üç boyutlu arrayin eleman sayısı:\", arr3.size)\n",
    "\n",
    "print(\"Üç boyutlu arrayin şekli:\", arr3.shape)\n"
   ]
  },
  {
   "cell_type": "code",
   "execution_count": 6,
   "metadata": {},
   "outputs": [
    {
     "name": "stdout",
     "output_type": "stream",
     "text": [
      "İki boyutlu arrayin [1,2] elemanı: 6\n",
      "İki boyutlu arrayin ilk satırı: [1 2 3]\n"
     ]
    }
   ],
   "source": [
    "print(\"İki boyutlu arrayin [1,2] elemanı:\", arr2[1, 2])\n",
    "\n",
    "print(\"İki boyutlu arrayin ilk satırı:\", arr2[0, :])"
   ]
  },
  {
   "cell_type": "code",
   "execution_count": 8,
   "metadata": {},
   "outputs": [
    {
     "name": "stdout",
     "output_type": "stream",
     "text": [
      "Üç boyutlu arrayin [1,0,1] elemanı: 6\n",
      "Üç boyutlu arrayin ilk 'katmanı': [[1 2]\n",
      " [3 4]]\n"
     ]
    }
   ],
   "source": [
    "print(\"Üç boyutlu arrayin [1,0,1] elemanı:\", arr3[1, 0, 1])\n",
    "\n",
    "print(\"Üç boyutlu arrayin ilk 'katmanı':\", arr3[0, :, :])\n"
   ]
  },
  {
   "cell_type": "code",
   "execution_count": 9,
   "metadata": {},
   "outputs": [
    {
     "name": "stdout",
     "output_type": "stream",
     "text": [
      "Sıfırlardan oluşan array:\n",
      " [[0 0 0]\n",
      " [0 0 0]]\n"
     ]
    }
   ],
   "source": [
    "zeros_array = np.zeros((2, 3), dtype=int)\n",
    "print(\"Sıfırlardan oluşan array:\\n\", zeros_array)\n"
   ]
  },
  {
   "cell_type": "code",
   "execution_count": 10,
   "metadata": {},
   "outputs": [
    {
     "name": "stdout",
     "output_type": "stream",
     "text": [
      "Birlerden oluşan array:\n",
      " [[1 1 1]\n",
      " [1 1 1]]\n"
     ]
    }
   ],
   "source": [
    "ones_array = np.ones((2, 3), dtype=int)\n",
    "print(\"Birlerden oluşan array:\\n\", ones_array)\n"
   ]
  },
  {
   "cell_type": "code",
   "execution_count": 11,
   "metadata": {},
   "outputs": [
    {
     "name": "stdout",
     "output_type": "stream",
     "text": [
      "Satır bazında birleştirilmiş array:\n",
      " [[0 0 0]\n",
      " [0 0 0]\n",
      " [1 1 1]\n",
      " [1 1 1]]\n"
     ]
    }
   ],
   "source": [
    "vertical_stack = np.vstack((zeros_array, ones_array))\n",
    "print(\"Satır bazında birleştirilmiş array:\\n\", vertical_stack)"
   ]
  },
  {
   "cell_type": "code",
   "execution_count": 12,
   "metadata": {},
   "outputs": [
    {
     "name": "stdout",
     "output_type": "stream",
     "text": [
      "Sütun bazında birleştirilmiş array:\n",
      " [[0 0 0 1 1 1]\n",
      " [0 0 0 1 1 1]]\n"
     ]
    }
   ],
   "source": [
    "horizontal_stack = np.hstack((zeros_array, ones_array))\n",
    "print(\"Sütun bazında birleştirilmiş array:\\n\", horizontal_stack)\n"
   ]
  }
 ],
 "metadata": {
  "kernelspec": {
   "display_name": "Python 3",
   "language": "python",
   "name": "python3"
  },
  "language_info": {
   "codemirror_mode": {
    "name": "ipython",
    "version": 3
   },
   "file_extension": ".py",
   "mimetype": "text/x-python",
   "name": "python",
   "nbconvert_exporter": "python",
   "pygments_lexer": "ipython3",
   "version": "3.11.4"
  }
 },
 "nbformat": 4,
 "nbformat_minor": 2
}
