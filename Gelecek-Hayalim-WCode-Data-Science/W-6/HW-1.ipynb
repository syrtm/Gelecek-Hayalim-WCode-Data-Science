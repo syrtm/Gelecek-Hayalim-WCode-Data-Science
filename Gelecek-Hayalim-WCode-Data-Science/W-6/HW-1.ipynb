{
 "cells": [
  {
   "cell_type": "code",
   "execution_count": 2,
   "metadata": {},
   "outputs": [
    {
     "name": "stdout",
     "output_type": "stream",
     "text": [
      "Ahmet öğrencisinin Matematik notu: 85\n",
      "\n",
      "Güncellenmiş öğrenci listesi ve notlar:\n",
      "Ahmet: {'Matematik': 85, 'Fizik': 90, 'Kimya': 78}\n",
      "Ayşe: {'Matematik': 92, 'Fizik': 88, 'Kimya': 91}\n",
      "Mehmet: {'Matematik': 75, 'Fizik': 80, 'Kimya': 84}\n"
     ]
    }
   ],
   "source": [
    "'''Bir sözlük oluşturulur ve bu sözlükte öğrencilerin isimleri ve Matematik, Fizik, Kimya notları tutulur. Kullanıcıdan isim ve ders ismi(Matematik, Fizik, Kimya) istenir ve bu bilgilere göre çıktı verilir.\n",
    "\n",
    "Sözlük üzerinde değerleri değiştirme, yeni değer ekleme, kullanıcıya ulaşmak istediği bilgileri sorma gibi uygulamalar yapın.'''\n",
    "\n",
    "ogrenciler = {\n",
    "    \"Ahmet\": {\"Matematik\": 85, \"Fizik\": 90, \"Kimya\": 78},\n",
    "    \"Ayşe\": {\"Matematik\": 92, \"Fizik\": 88, \"Kimya\": 91},\n",
    "    \"Mehmet\": {\"Matematik\": 75, \"Fizik\": 80, \"Kimya\": 84}\n",
    "}\n",
    "\n",
    "isim = input(\"Öğrenci ismini girin: \")\n",
    "ders = input(\"Ders ismini girin (Matematik, Fizik, Kimya): \")\n",
    "\n",
    "if isim in ogrenciler and ders in ogrenciler[isim]:\n",
    "    print(f\"{isim} öğrencisinin {ders} notu: {ogrenciler[isim][ders]}\")\n",
    "else:\n",
    "    print(f\"{isim} öğrencisi ya da {ders} dersi bulunamadı.\")\n",
    "\n",
    "secim = input(\"Notu değiştirmek veya yeni bir not eklemek ister misiniz? (E/H): \")\n",
    "\n",
    "if secim.lower() == 'e':\n",
    "    yeni_not = int(input(f\"{isim} öğrencisinin {ders} dersi için yeni notu girin: \"))\n",
    "    \n",
    "    if isim in ogrenciler:\n",
    "        ogrenciler[isim][ders] = yeni_not\n",
    "        print(f\"{isim} öğrencisinin {ders} dersi için not güncellendi: {yeni_not}\")\n",
    "    else:\n",
    "        ogrenciler[isim] = {ders: yeni_not}\n",
    "        print(f\"{isim} öğrencisi eklendi ve {ders} dersi için not girildi: {yeni_not}\")\n",
    "\n",
    "print(\"\\nGüncellenmiş öğrenci listesi ve notlar:\")\n",
    "for ogrenci, notlar in ogrenciler.items():\n",
    "    print(f\"{ogrenci}: {notlar}\")\n"
   ]
  }
 ],
 "metadata": {
  "kernelspec": {
   "display_name": "Python 3",
   "language": "python",
   "name": "python3"
  },
  "language_info": {
   "codemirror_mode": {
    "name": "ipython",
    "version": 3
   },
   "file_extension": ".py",
   "mimetype": "text/x-python",
   "name": "python",
   "nbconvert_exporter": "python",
   "pygments_lexer": "ipython3",
   "version": "3.12.4"
  }
 },
 "nbformat": 4,
 "nbformat_minor": 2
}
