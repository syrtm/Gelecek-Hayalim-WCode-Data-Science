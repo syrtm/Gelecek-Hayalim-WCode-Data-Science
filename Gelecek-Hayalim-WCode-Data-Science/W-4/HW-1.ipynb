{
 "cells": [
  {
   "cell_type": "code",
   "execution_count": 1,
   "metadata": {},
   "outputs": [
    {
     "name": "stdout",
     "output_type": "stream",
     "text": [
      "Ödev 1\n",
      "Vergi oranı: %30.0\n",
      "Kesilen vergi miktarı: 15000.0 TL\n",
      "Yeni maaşınız: 35000.0 TL\n"
     ]
    }
   ],
   "source": [
    "'''Kullanıcıdan maaş bilgisini istenir ve bu bilgiye göre maaşından ne kadar vergi kesileceğini hesaplanır. Kullanıcının geliri;\n",
    "\n",
    " 10000 ve altındaysa maaşından %5 kesinti olur. \n",
    " 25000 ve altındaysa maaşından %10 kesinti olur. \n",
    " 45000 ve altındaysa maaşından %25 kesinti olur. \n",
    " Diğer koşullarda %30 kesinti olur. \n",
    "\n",
    "Bu durumlara göre kullanıcının yeni maaşı yazdırılır.'''\n",
    "\n",
    "print(\"Ödev 1\")\n",
    "\n",
    "salary = float(input(\"Maaşınızı girin: \"))\n",
    "\n",
    "if salary <= 10000:\n",
    "    tax_rate = 0.05  \n",
    "elif salary <= 25000:\n",
    "    tax_rate = 0.10  \n",
    "elif salary <= 45000:\n",
    "    tax_rate = 0.25  \n",
    "else:\n",
    "    tax_rate = 0.30  \n",
    "\n",
    "tax_amount = salary * tax_rate\n",
    "new_salary = salary - tax_amount\n",
    "\n",
    "print(f\"Vergi oranı: %{tax_rate * 100}\")\n",
    "print(f\"Kesilen vergi miktarı: {tax_amount} TL\")\n",
    "print(f\"Yeni maaşınız: {new_salary} TL\")\n"
   ]
  },
  {
   "cell_type": "code",
   "execution_count": 3,
   "metadata": {},
   "outputs": [
    {
     "name": "stdout",
     "output_type": "stream",
     "text": [
      "Ödev 2\n",
      "Şifre en az 6 karakter olmalıdır.\n"
     ]
    }
   ],
   "source": [
    "''' Kullanıcıdan kullanıcı adı ve şifre oluşturmasını istenir. Şifrenin uzunluğu altı haneye ulaşmışsa hesabınız oluşturuldu mesajı alınır, altı haneden azsa altı haneli şifre oluşturması gerektiğinin mesajı alınır. (Sadece koşul kullanılması yeterli.) '''\n",
    "\n",
    "print(\"Ödev 2\")\n",
    "\n",
    "username = input(\"Kullanıcı adınızı girin: \")\n",
    "password = input(\"Şifrenizi girin: \")\n",
    "\n",
    "if len(password) >= 6:\n",
    "    print(\"Hesabınız oluşturuldu.\")\n",
    "else:\n",
    "    print(\"Şifre en az 6 karakter olmalıdır.\")\n"
   ]
  },
  {
   "cell_type": "code",
   "execution_count": 4,
   "metadata": {},
   "outputs": [
    {
     "name": "stdout",
     "output_type": "stream",
     "text": [
      "Ödev 3\n",
      "Lütfen şifreniz 5 haneden az, 10 haneden fazla olmasın!\n",
      "Lütfen şifreniz 5 haneden az, 10 haneden fazla olmasın!\n"
     ]
    }
   ],
   "source": [
    "'''Bir önceki örnek geliştirilir.\n",
    "\n",
    "\n",
    " Kullanıcı girdiği şifre 5 ve 10 hane arasında olmak zorunda. \n",
    " Eğer bu koşula uyuyorsa \"Hesabınız oluşturuldu.\" mesajı alır. \n",
    " Koşulu sağlamıyorsa \"Lütfen girdiniz şifre 5 haneden az 10 haneden fazla olmasın!\" uyarısı alır. \n",
    " Bunu oluştururken kullanıcı istediğimiz şartlarda şifre oluşturana kadar sormaya devam eder '''\n",
    "\n",
    "print(\"Ödev 3\")\n",
    "\n",
    "while True:\n",
    "    password = input(\"Şifrenizi girin (5-10 karakter arasında olmalı): \")\n",
    "    \n",
    "    if 5 <= len(password) <= 10:\n",
    "        print(\"Hesabınız oluşturuldu.\")\n",
    "        break\n",
    "    else:\n",
    "        print(\"Lütfen şifreniz 5 haneden az, 10 haneden fazla olmasın!\")\n",
    "\n"
   ]
  },
  {
   "cell_type": "code",
   "execution_count": 1,
   "metadata": {},
   "outputs": [
    {
     "name": "stdout",
     "output_type": "stream",
     "text": [
      "Ödev 4\n",
      "Yanlış şifre girildi! Kalan hakkınız: 2\n",
      "Yanlış şifre girildi! Kalan hakkınız: 1\n",
      "Yanlış şifre girildi! Kalan hakkınız: 0\n",
      "Şifre giriş hakkınız bitti. Program sonlandırılıyor.\n"
     ]
    }
   ],
   "source": [
    "'''Kullanıcıdan isim ve şifre isteyeceğiz ve şifre girişi için üç hak verilir.\n",
    "\n",
    "\n",
    " Eğer önceden tanımlı şifre ile kullanıcıdan gelen şifre aynıysa \"Giriş yapıldı.\" yazar. \n",
    " Şifre girişi yanlışsa \"Yanlış şifre girildi!\" uyarısı verilsin ve üç yanlış denemede program biter. \n",
    " Tercihe göre kalan hak bilgisi verilir. '''\n",
    "\n",
    "print(\"Ödev 4\")\n",
    "\n",
    "correct_password = \"123456\"\n",
    "\n",
    "attempts = 3\n",
    "\n",
    "while attempts > 0:\n",
    "    password = input(\"Şifrenizi girin: \")\n",
    "    \n",
    "    if password == correct_password:\n",
    "        print(\"Giriş yapıldı.\")\n",
    "        break\n",
    "    else:\n",
    "        attempts -= 1\n",
    "        print(f\"Yanlış şifre girildi! Kalan hakkınız: {attempts}\")\n",
    "        \n",
    "        if attempts == 0:\n",
    "            print(\"Şifre giriş hakkınız bitti. Program sonlandırılıyor.\")\n"
   ]
  }
 ],
 "metadata": {
  "kernelspec": {
   "display_name": "Python 3",
   "language": "python",
   "name": "python3"
  },
  "language_info": {
   "codemirror_mode": {
    "name": "ipython",
    "version": 3
   },
   "file_extension": ".py",
   "mimetype": "text/x-python",
   "name": "python",
   "nbconvert_exporter": "python",
   "pygments_lexer": "ipython3",
   "version": "3.12.4"
  }
 },
 "nbformat": 4,
 "nbformat_minor": 2
}
