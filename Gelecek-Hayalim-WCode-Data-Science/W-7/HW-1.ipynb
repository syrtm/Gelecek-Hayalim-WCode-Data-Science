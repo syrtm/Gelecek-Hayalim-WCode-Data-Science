{
 "cells": [
  {
   "cell_type": "code",
   "execution_count": 6,
   "metadata": {},
   "outputs": [
    {
     "name": "stdout",
     "output_type": "stream",
     "text": [
      "2. indekste bulunan kategori: Ayakkabı\n",
      "2. indekste bulunan ürün: Sandalet\n",
      "4. indeksten 9. indekse kadar olan veriler:\n",
      "    Kategori           Ürün  Fiyat\n",
      "4  Ayakkabı  Spor Ayakkabı    700\n",
      "5     Giyim       Pantolon    400\n",
      "6  Aksesuar          Kolye    150\n",
      "7  Aksesuar          Yüzük     80\n",
      "8  Ayakkabı          Çizme    850\n",
      "9     Giyim          Ceket    900\n",
      "1. indeksten 6. indekse kadar olan ürünler:\n",
      " 1          T-shirt\n",
      "2         Sandalet\n",
      "3             Küpe\n",
      "4    Spor Ayakkabı\n",
      "5         Pantolon\n",
      "6            Kolye\n",
      "Name: Ürün, dtype: object\n",
      "Giyim kategorisinde bulunan ürünler:\n",
      "   Kategori      Ürün  Fiyat\n",
      "0    Giyim     Kazak    300\n",
      "1    Giyim   T-shirt    180\n",
      "5    Giyim  Pantolon    400\n",
      "9    Giyim     Ceket    900\n",
      "Ayakkabı kategorisinde bulunan ürünler:\n",
      "    Kategori           Ürün  Fiyat\n",
      "2  Ayakkabı       Sandalet    450\n",
      "4  Ayakkabı  Spor Ayakkabı    700\n",
      "8  Ayakkabı          Çizme    850\n"
     ]
    }
   ],
   "source": [
    "'''Pandas kütüphanesinin kullanım amacı anlatılır. Pandas’ta kullanılan series ve data frame veri tipleri anlatılır. Bu veri tiplerinin kullanım amacı ve özellikleri uygulamalı olarak anlatılır.\n",
    "\n",
    "Series oluşturma: Series tanımı yapılır ve eleman sayısına, index ve değer bilgisine, ulaşma yöntemleri örnekler ile gösterilir.\n",
    "\n",
    "Indexing ve slicing: Seriler üzerinde indexing ve slicing işlemleri örnekler üzerinden gösterilir.\n",
    "\n",
    "Dataframe oluşturma: Dataframe tanımı yapılır ve nasıl oluşturulduğu, sütun adı değiştirme örnekleri verilir. Index ve sütun bilgisine ulaşma örnekleri gösterilir.\n",
    "\n",
    "Indexing ve slicing: Dataframe üzerinde eleman seçmek için yöntemler gösterilir.\n",
    "\n",
    "Drop fonksiyonu: Silme işlemi yapmak için olduğu belirtilir ve örnekler ile gösterilir.\n",
    "\n",
    "loc ve iloc: Bu yapılar ile etikete dayalı ve indexe dayalı seçme işlemi örnekleri yapılır.\n",
    "\n",
    "Eleman seçme: Dataframe’deki istenen sütunda belirli değerlerin gösterimi yapılır.\n",
    "\n",
    "Concat fonksiyonu: Dataframe’leri birleştirmek için kullanıldığı örnekler üzerinden anlatılır. Birleştirme işleminin yöntemine göre kullanılması gereken parametreler anlatılır.'''\n",
    "\n",
    "import pandas as pd\n",
    "\n",
    "sozluk = {\n",
    "    \"Kategori\": [\"Giyim\", \"Giyim\", \"Ayakkabı\", \"Aksesuar\", \"Ayakkabı\", \"Giyim\", \"Aksesuar\", \"Aksesuar\", \"Ayakkabı\", \"Giyim\"],\n",
    "    \"Ürün\": [\"Kazak\", \"T-shirt\", \"Sandalet\", \"Küpe\", \"Spor Ayakkabı\", \"Pantolon\", \"Kolye\", \"Yüzük\", \"Çizme\", \"Ceket\"],\n",
    "    \"Fiyat\": [300, 180, 450, 50, 700, 400, 150, 80, 850, 900]\n",
    "}\n",
    "\n",
    "df = pd.DataFrame(sozluk)\n",
    "\n",
    "kategori_2 = df.loc[2, \"Kategori\"]\n",
    "print(\"2. indekste bulunan kategori:\", kategori_2)\n",
    "\n",
    "urun_2 = df.loc[2, \"Ürün\"]\n",
    "print(\"2. indekste bulunan ürün:\", urun_2)\n",
    "\n",
    "veriler_4_9 = df.loc[4:9]\n",
    "print(\"4. indeksten 9. indekse kadar olan veriler:\\n\", veriler_4_9)\n",
    "\n",
    "urunler_1_6 = df.loc[1:6, \"Ürün\"]\n",
    "print(\"1. indeksten 6. indekse kadar olan ürünler:\\n\", urunler_1_6)\n",
    "\n"
   ]
  },
  {
   "cell_type": "code",
   "execution_count": 8,
   "metadata": {},
   "outputs": [
    {
     "name": "stdout",
     "output_type": "stream",
     "text": [
      "Giyim kategorisinde bulunan ürünler:\n",
      "   Kategori      Ürün  Fiyat\n",
      "0    Giyim     Kazak    300\n",
      "1    Giyim   T-shirt    180\n",
      "5    Giyim  Pantolon    400\n",
      "9    Giyim     Ceket    900\n",
      "Ayakkabı kategorisinde bulunan ürünler:\n",
      "    Kategori           Ürün  Fiyat\n",
      "2  Ayakkabı       Sandalet    450\n",
      "4  Ayakkabı  Spor Ayakkabı    700\n",
      "8  Ayakkabı          Çizme    850\n",
      "Aksesuar kategorisinde bulunan ürünler:\n",
      "    Kategori   Ürün  Fiyat\n",
      "3  Aksesuar   Küpe     50\n",
      "6  Aksesuar  Kolye    150\n",
      "7  Aksesuar  Yüzük     80\n",
      "Giyim kategorisinde fiyatı 300'den fazla olan ürünler:\n",
      "   Kategori      Ürün  Fiyat\n",
      "5    Giyim  Pantolon    400\n",
      "9    Giyim     Ceket    900\n",
      "Ayakkabı kategorisinde fiyatı 600'den az olan ürünler:\n",
      "    Kategori      Ürün  Fiyat\n",
      "2  Ayakkabı  Sandalet    450\n",
      "Aksesuar kategorisinde fiyatı 100'den fazla olan ürünler:\n",
      "    Kategori   Ürün  Fiyat\n",
      "6  Aksesuar  Kolye    150\n"
     ]
    }
   ],
   "source": [
    "giyim_urunler = df[df[\"Kategori\"] == \"Giyim\"]\n",
    "print(\"Giyim kategorisinde bulunan ürünler:\\n\", giyim_urunler)\n",
    "\n",
    "ayakkabi_urunler = df[df[\"Kategori\"] == \"Ayakkabı\"]\n",
    "print(\"Ayakkabı kategorisinde bulunan ürünler:\\n\", ayakkabi_urunler)\n",
    "\n",
    "aksesuar_urunler = df[df[\"Kategori\"] == \"Aksesuar\"]\n",
    "print(\"Aksesuar kategorisinde bulunan ürünler:\\n\", aksesuar_urunler)\n",
    "\n",
    "giyim_300_plus = df[(df[\"Kategori\"] == \"Giyim\") & (df[\"Fiyat\"] > 300)]\n",
    "print(\"Giyim kategorisinde fiyatı 300'den fazla olan ürünler:\\n\", giyim_300_plus)\n",
    "\n",
    "ayakkabi_600_minus = df[(df[\"Kategori\"] == \"Ayakkabı\") & (df[\"Fiyat\"] < 600)]\n",
    "print(\"Ayakkabı kategorisinde fiyatı 600'den az olan ürünler:\\n\", ayakkabi_600_minus)\n",
    "\n",
    "aksesuar_100_plus = df[(df[\"Kategori\"] == \"Aksesuar\") & (df[\"Fiyat\"] > 100)]\n",
    "print(\"Aksesuar kategorisinde fiyatı 100'den fazla olan ürünler:\\n\", aksesuar_100_plus)"
   ]
  }
 ],
 "metadata": {
  "kernelspec": {
   "display_name": "myenv",
   "language": "python",
   "name": "python3"
  },
  "language_info": {
   "codemirror_mode": {
    "name": "ipython",
    "version": 3
   },
   "file_extension": ".py",
   "mimetype": "text/x-python",
   "name": "python",
   "nbconvert_exporter": "python",
   "pygments_lexer": "ipython3",
   "version": "3.11.4"
  }
 },
 "nbformat": 4,
 "nbformat_minor": 2
}
